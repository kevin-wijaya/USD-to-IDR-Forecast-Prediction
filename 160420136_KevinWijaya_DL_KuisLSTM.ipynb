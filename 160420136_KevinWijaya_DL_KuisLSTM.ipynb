{
  "cells": [
    {
      "cell_type": "markdown",
      "metadata": {
        "id": "s-psBaEkiecU"
      },
      "source": [
        "## **Import Library and Read Data**"
      ]
    },
    {
      "cell_type": "code",
      "execution_count": 1,
      "metadata": {
        "colab": {
          "base_uri": "https://localhost:8080/"
        },
        "id": "gvChDM78iOZl",
        "outputId": "7cacce26-c6a4-465b-c578-16bc96a1b472"
      },
      "outputs": [
        {
          "output_type": "stream",
          "name": "stdout",
          "text": [
            "success import library\n"
          ]
        }
      ],
      "source": [
        "#Import Library\n",
        "\n",
        "#utilities\n",
        "import numpy as np\n",
        "import pandas as pd\n",
        "import matplotlib.pyplot as plt\n",
        "import random\n",
        "import time\n",
        "from itertools import product\n",
        "\n",
        "#preprocessing\n",
        "from sklearn.preprocessing import MinMaxScaler\n",
        "\n",
        "#modelling\n",
        "import tensorflow as tf\n",
        "from sklearn.metrics import mean_squared_error\n",
        "from keras.models import Sequential\n",
        "from keras.layers import Dense, LSTM, Dropout\n",
        "from keras.optimizers import Adam, RMSprop\n",
        "from keras.callbacks import EarlyStopping\n",
        "from keras.regularizers import l1, l2\n",
        "\n",
        "print('success import library')"
      ]
    },
    {
      "cell_type": "code",
      "execution_count": 2,
      "metadata": {
        "id": "_aMHZQpLg2Nl"
      },
      "outputs": [],
      "source": [
        "#setup seed for all python package\n",
        "seed = 42\n",
        "random.seed(seed)\n",
        "np.random.seed(seed)\n",
        "tf.random.set_seed(seed)"
      ]
    },
    {
      "cell_type": "code",
      "execution_count": 3,
      "metadata": {
        "colab": {
          "base_uri": "https://localhost:8080/",
          "height": 206
        },
        "id": "C7JsUyb6lQJg",
        "outputId": "c312f660-1988-4eae-d145-6497f71c5715"
      },
      "outputs": [
        {
          "output_type": "execute_result",
          "data": {
            "text/plain": [
              "         Value\n",
              "0  14531.50000\n",
              "1  14426.79981\n",
              "2  14431.00000\n",
              "3  14435.20020\n",
              "4  14458.79981"
            ],
            "text/html": [
              "\n",
              "  <div id=\"df-cc6ee52d-4fc6-4037-9caf-bb290a4ba770\">\n",
              "    <div class=\"colab-df-container\">\n",
              "      <div>\n",
              "<style scoped>\n",
              "    .dataframe tbody tr th:only-of-type {\n",
              "        vertical-align: middle;\n",
              "    }\n",
              "\n",
              "    .dataframe tbody tr th {\n",
              "        vertical-align: top;\n",
              "    }\n",
              "\n",
              "    .dataframe thead th {\n",
              "        text-align: right;\n",
              "    }\n",
              "</style>\n",
              "<table border=\"1\" class=\"dataframe\">\n",
              "  <thead>\n",
              "    <tr style=\"text-align: right;\">\n",
              "      <th></th>\n",
              "      <th>Value</th>\n",
              "    </tr>\n",
              "  </thead>\n",
              "  <tbody>\n",
              "    <tr>\n",
              "      <th>0</th>\n",
              "      <td>14531.50000</td>\n",
              "    </tr>\n",
              "    <tr>\n",
              "      <th>1</th>\n",
              "      <td>14426.79981</td>\n",
              "    </tr>\n",
              "    <tr>\n",
              "      <th>2</th>\n",
              "      <td>14431.00000</td>\n",
              "    </tr>\n",
              "    <tr>\n",
              "      <th>3</th>\n",
              "      <td>14435.20020</td>\n",
              "    </tr>\n",
              "    <tr>\n",
              "      <th>4</th>\n",
              "      <td>14458.79981</td>\n",
              "    </tr>\n",
              "  </tbody>\n",
              "</table>\n",
              "</div>\n",
              "      <button class=\"colab-df-convert\" onclick=\"convertToInteractive('df-cc6ee52d-4fc6-4037-9caf-bb290a4ba770')\"\n",
              "              title=\"Convert this dataframe to an interactive table.\"\n",
              "              style=\"display:none;\">\n",
              "        \n",
              "  <svg xmlns=\"http://www.w3.org/2000/svg\" height=\"24px\"viewBox=\"0 0 24 24\"\n",
              "       width=\"24px\">\n",
              "    <path d=\"M0 0h24v24H0V0z\" fill=\"none\"/>\n",
              "    <path d=\"M18.56 5.44l.94 2.06.94-2.06 2.06-.94-2.06-.94-.94-2.06-.94 2.06-2.06.94zm-11 1L8.5 8.5l.94-2.06 2.06-.94-2.06-.94L8.5 2.5l-.94 2.06-2.06.94zm10 10l.94 2.06.94-2.06 2.06-.94-2.06-.94-.94-2.06-.94 2.06-2.06.94z\"/><path d=\"M17.41 7.96l-1.37-1.37c-.4-.4-.92-.59-1.43-.59-.52 0-1.04.2-1.43.59L10.3 9.45l-7.72 7.72c-.78.78-.78 2.05 0 2.83L4 21.41c.39.39.9.59 1.41.59.51 0 1.02-.2 1.41-.59l7.78-7.78 2.81-2.81c.8-.78.8-2.07 0-2.86zM5.41 20L4 18.59l7.72-7.72 1.47 1.35L5.41 20z\"/>\n",
              "  </svg>\n",
              "      </button>\n",
              "      \n",
              "  <style>\n",
              "    .colab-df-container {\n",
              "      display:flex;\n",
              "      flex-wrap:wrap;\n",
              "      gap: 12px;\n",
              "    }\n",
              "\n",
              "    .colab-df-convert {\n",
              "      background-color: #E8F0FE;\n",
              "      border: none;\n",
              "      border-radius: 50%;\n",
              "      cursor: pointer;\n",
              "      display: none;\n",
              "      fill: #1967D2;\n",
              "      height: 32px;\n",
              "      padding: 0 0 0 0;\n",
              "      width: 32px;\n",
              "    }\n",
              "\n",
              "    .colab-df-convert:hover {\n",
              "      background-color: #E2EBFA;\n",
              "      box-shadow: 0px 1px 2px rgba(60, 64, 67, 0.3), 0px 1px 3px 1px rgba(60, 64, 67, 0.15);\n",
              "      fill: #174EA6;\n",
              "    }\n",
              "\n",
              "    [theme=dark] .colab-df-convert {\n",
              "      background-color: #3B4455;\n",
              "      fill: #D2E3FC;\n",
              "    }\n",
              "\n",
              "    [theme=dark] .colab-df-convert:hover {\n",
              "      background-color: #434B5C;\n",
              "      box-shadow: 0px 1px 3px 1px rgba(0, 0, 0, 0.15);\n",
              "      filter: drop-shadow(0px 1px 2px rgba(0, 0, 0, 0.3));\n",
              "      fill: #FFFFFF;\n",
              "    }\n",
              "  </style>\n",
              "\n",
              "      <script>\n",
              "        const buttonEl =\n",
              "          document.querySelector('#df-cc6ee52d-4fc6-4037-9caf-bb290a4ba770 button.colab-df-convert');\n",
              "        buttonEl.style.display =\n",
              "          google.colab.kernel.accessAllowed ? 'block' : 'none';\n",
              "\n",
              "        async function convertToInteractive(key) {\n",
              "          const element = document.querySelector('#df-cc6ee52d-4fc6-4037-9caf-bb290a4ba770');\n",
              "          const dataTable =\n",
              "            await google.colab.kernel.invokeFunction('convertToInteractive',\n",
              "                                                     [key], {});\n",
              "          if (!dataTable) return;\n",
              "\n",
              "          const docLinkHtml = 'Like what you see? Visit the ' +\n",
              "            '<a target=\"_blank\" href=https://colab.research.google.com/notebooks/data_table.ipynb>data table notebook</a>'\n",
              "            + ' to learn more about interactive tables.';\n",
              "          element.innerHTML = '';\n",
              "          dataTable['output_type'] = 'display_data';\n",
              "          await google.colab.output.renderOutput(dataTable, element);\n",
              "          const docLink = document.createElement('div');\n",
              "          docLink.innerHTML = docLinkHtml;\n",
              "          element.appendChild(docLink);\n",
              "        }\n",
              "      </script>\n",
              "    </div>\n",
              "  </div>\n",
              "  "
            ]
          },
          "metadata": {},
          "execution_count": 3
        }
      ],
      "source": [
        "#read data\n",
        "train = pd.read_csv('TrainingUSD.csv', header=None, names=['Value'])\n",
        "train.head(5)"
      ]
    },
    {
      "cell_type": "markdown",
      "source": [
        "**Explanation:** The data used is USD to IDR time series data, with a total sample of 200 training data"
      ],
      "metadata": {
        "id": "Wommle0BkRBL"
      }
    },
    {
      "cell_type": "markdown",
      "metadata": {
        "id": "bC-qxz2wnrr-"
      },
      "source": [
        "## **Simple Analysis**"
      ]
    },
    {
      "cell_type": "code",
      "execution_count": 4,
      "metadata": {
        "colab": {
          "base_uri": "https://localhost:8080/"
        },
        "id": "2SDeR2LcnoJD",
        "outputId": "e2efc90c-740f-4fc0-b7ee-c5682b1ca011"
      },
      "outputs": [
        {
          "output_type": "stream",
          "name": "stdout",
          "text": [
            "<class 'pandas.core.frame.DataFrame'>\n",
            "RangeIndex: 200 entries, 0 to 199\n",
            "Data columns (total 1 columns):\n",
            " #   Column  Non-Null Count  Dtype  \n",
            "---  ------  --------------  -----  \n",
            " 0   Value   200 non-null    float64\n",
            "dtypes: float64(1)\n",
            "memory usage: 1.7 KB\n"
          ]
        }
      ],
      "source": [
        "#check data type\n",
        "train.info()"
      ]
    },
    {
      "cell_type": "code",
      "execution_count": 5,
      "metadata": {
        "colab": {
          "base_uri": "https://localhost:8080/"
        },
        "id": "SJixPMyIuwaH",
        "outputId": "071760f2-4681-48b5-c6d4-ab6f9f92db9d"
      },
      "outputs": [
        {
          "output_type": "stream",
          "name": "stdout",
          "text": [
            "Missing values found: 0\n",
            "\n"
          ]
        }
      ],
      "source": [
        "#check missing value\n",
        "print(f'Missing values found: {train.isna().sum().sum()}\\n')"
      ]
    },
    {
      "cell_type": "code",
      "execution_count": 6,
      "metadata": {
        "colab": {
          "base_uri": "https://localhost:8080/",
          "height": 300
        },
        "id": "9655_2cQnvXt",
        "outputId": "b5524553-2adb-4891-e026-393692f78a02"
      },
      "outputs": [
        {
          "output_type": "execute_result",
          "data": {
            "text/plain": [
              "              Value\n",
              "count    200.000000\n",
              "mean   15170.856495\n",
              "std      338.540783\n",
              "min    14426.799810\n",
              "25%    14891.749760\n",
              "50%    15141.500000\n",
              "75%    15529.200195\n",
              "max    15789.000000"
            ],
            "text/html": [
              "\n",
              "  <div id=\"df-0d64d0c3-d3da-448a-bb31-00680ee2b272\">\n",
              "    <div class=\"colab-df-container\">\n",
              "      <div>\n",
              "<style scoped>\n",
              "    .dataframe tbody tr th:only-of-type {\n",
              "        vertical-align: middle;\n",
              "    }\n",
              "\n",
              "    .dataframe tbody tr th {\n",
              "        vertical-align: top;\n",
              "    }\n",
              "\n",
              "    .dataframe thead th {\n",
              "        text-align: right;\n",
              "    }\n",
              "</style>\n",
              "<table border=\"1\" class=\"dataframe\">\n",
              "  <thead>\n",
              "    <tr style=\"text-align: right;\">\n",
              "      <th></th>\n",
              "      <th>Value</th>\n",
              "    </tr>\n",
              "  </thead>\n",
              "  <tbody>\n",
              "    <tr>\n",
              "      <th>count</th>\n",
              "      <td>200.000000</td>\n",
              "    </tr>\n",
              "    <tr>\n",
              "      <th>mean</th>\n",
              "      <td>15170.856495</td>\n",
              "    </tr>\n",
              "    <tr>\n",
              "      <th>std</th>\n",
              "      <td>338.540783</td>\n",
              "    </tr>\n",
              "    <tr>\n",
              "      <th>min</th>\n",
              "      <td>14426.799810</td>\n",
              "    </tr>\n",
              "    <tr>\n",
              "      <th>25%</th>\n",
              "      <td>14891.749760</td>\n",
              "    </tr>\n",
              "    <tr>\n",
              "      <th>50%</th>\n",
              "      <td>15141.500000</td>\n",
              "    </tr>\n",
              "    <tr>\n",
              "      <th>75%</th>\n",
              "      <td>15529.200195</td>\n",
              "    </tr>\n",
              "    <tr>\n",
              "      <th>max</th>\n",
              "      <td>15789.000000</td>\n",
              "    </tr>\n",
              "  </tbody>\n",
              "</table>\n",
              "</div>\n",
              "      <button class=\"colab-df-convert\" onclick=\"convertToInteractive('df-0d64d0c3-d3da-448a-bb31-00680ee2b272')\"\n",
              "              title=\"Convert this dataframe to an interactive table.\"\n",
              "              style=\"display:none;\">\n",
              "        \n",
              "  <svg xmlns=\"http://www.w3.org/2000/svg\" height=\"24px\"viewBox=\"0 0 24 24\"\n",
              "       width=\"24px\">\n",
              "    <path d=\"M0 0h24v24H0V0z\" fill=\"none\"/>\n",
              "    <path d=\"M18.56 5.44l.94 2.06.94-2.06 2.06-.94-2.06-.94-.94-2.06-.94 2.06-2.06.94zm-11 1L8.5 8.5l.94-2.06 2.06-.94-2.06-.94L8.5 2.5l-.94 2.06-2.06.94zm10 10l.94 2.06.94-2.06 2.06-.94-2.06-.94-.94-2.06-.94 2.06-2.06.94z\"/><path d=\"M17.41 7.96l-1.37-1.37c-.4-.4-.92-.59-1.43-.59-.52 0-1.04.2-1.43.59L10.3 9.45l-7.72 7.72c-.78.78-.78 2.05 0 2.83L4 21.41c.39.39.9.59 1.41.59.51 0 1.02-.2 1.41-.59l7.78-7.78 2.81-2.81c.8-.78.8-2.07 0-2.86zM5.41 20L4 18.59l7.72-7.72 1.47 1.35L5.41 20z\"/>\n",
              "  </svg>\n",
              "      </button>\n",
              "      \n",
              "  <style>\n",
              "    .colab-df-container {\n",
              "      display:flex;\n",
              "      flex-wrap:wrap;\n",
              "      gap: 12px;\n",
              "    }\n",
              "\n",
              "    .colab-df-convert {\n",
              "      background-color: #E8F0FE;\n",
              "      border: none;\n",
              "      border-radius: 50%;\n",
              "      cursor: pointer;\n",
              "      display: none;\n",
              "      fill: #1967D2;\n",
              "      height: 32px;\n",
              "      padding: 0 0 0 0;\n",
              "      width: 32px;\n",
              "    }\n",
              "\n",
              "    .colab-df-convert:hover {\n",
              "      background-color: #E2EBFA;\n",
              "      box-shadow: 0px 1px 2px rgba(60, 64, 67, 0.3), 0px 1px 3px 1px rgba(60, 64, 67, 0.15);\n",
              "      fill: #174EA6;\n",
              "    }\n",
              "\n",
              "    [theme=dark] .colab-df-convert {\n",
              "      background-color: #3B4455;\n",
              "      fill: #D2E3FC;\n",
              "    }\n",
              "\n",
              "    [theme=dark] .colab-df-convert:hover {\n",
              "      background-color: #434B5C;\n",
              "      box-shadow: 0px 1px 3px 1px rgba(0, 0, 0, 0.15);\n",
              "      filter: drop-shadow(0px 1px 2px rgba(0, 0, 0, 0.3));\n",
              "      fill: #FFFFFF;\n",
              "    }\n",
              "  </style>\n",
              "\n",
              "      <script>\n",
              "        const buttonEl =\n",
              "          document.querySelector('#df-0d64d0c3-d3da-448a-bb31-00680ee2b272 button.colab-df-convert');\n",
              "        buttonEl.style.display =\n",
              "          google.colab.kernel.accessAllowed ? 'block' : 'none';\n",
              "\n",
              "        async function convertToInteractive(key) {\n",
              "          const element = document.querySelector('#df-0d64d0c3-d3da-448a-bb31-00680ee2b272');\n",
              "          const dataTable =\n",
              "            await google.colab.kernel.invokeFunction('convertToInteractive',\n",
              "                                                     [key], {});\n",
              "          if (!dataTable) return;\n",
              "\n",
              "          const docLinkHtml = 'Like what you see? Visit the ' +\n",
              "            '<a target=\"_blank\" href=https://colab.research.google.com/notebooks/data_table.ipynb>data table notebook</a>'\n",
              "            + ' to learn more about interactive tables.';\n",
              "          element.innerHTML = '';\n",
              "          dataTable['output_type'] = 'display_data';\n",
              "          await google.colab.output.renderOutput(dataTable, element);\n",
              "          const docLink = document.createElement('div');\n",
              "          docLink.innerHTML = docLinkHtml;\n",
              "          element.appendChild(docLink);\n",
              "        }\n",
              "      </script>\n",
              "    </div>\n",
              "  </div>\n",
              "  "
            ]
          },
          "metadata": {},
          "execution_count": 6
        }
      ],
      "source": [
        "#check Statistics descriptive\n",
        "train.describe()"
      ]
    },
    {
      "cell_type": "code",
      "execution_count": 7,
      "metadata": {
        "colab": {
          "base_uri": "https://localhost:8080/",
          "height": 214
        },
        "id": "I9t6eXN931ZZ",
        "outputId": "615e3be9-2a31-448d-cceb-78178abcba05"
      },
      "outputs": [
        {
          "output_type": "display_data",
          "data": {
            "text/plain": [
              "<Figure size 700x200 with 1 Axes>"
            ],
            "image/png": "[encoded data removed]"
          },
          "metadata": {}
        }
      ],
      "source": [
        "#check boxplot\n",
        "train.boxplot(vert=False, figsize=(7, 2))\n",
        "plt.show()"
      ]
    },
    {
      "cell_type": "markdown",
      "source": [
        "**Explanation:** Based on the results of the descriptive analysis and the plots of the boxplot data, for regression problem on time series data that has no outliers and does not need to follow the assumptions of a standard normal distribution, the Min-Max Scaling method can be the right choice."
      ],
      "metadata": {
        "id": "LT6bCFzDmUgl"
      }
    },
    {
      "cell_type": "markdown",
      "metadata": {
        "id": "EEd1W_pwxZ4l"
      },
      "source": [
        "## **Preprocessing Data**"
      ]
    },
    {
      "cell_type": "code",
      "execution_count": 8,
      "metadata": {
        "colab": {
          "base_uri": "https://localhost:8080/",
          "height": 206
        },
        "id": "cfF5dTWfxdQ6",
        "outputId": "f72d3c29-9c90-4a61-e6ed-3681687735c1"
      },
      "outputs": [
        {
          "output_type": "execute_result",
          "data": {
            "text/plain": [
              "      Value\n",
              "0  0.076861\n",
              "1  0.000000\n",
              "2  0.003083\n",
              "3  0.006167\n",
              "4  0.023491"
            ],
            "text/html": [
              "\n",
              "  <div id=\"df-fc0bbb5e-aa2f-46f4-bbff-b5e73131b46d\">\n",
              "    <div class=\"colab-df-container\">\n",
              "      <div>\n",
              "<style scoped>\n",
              "    .dataframe tbody tr th:only-of-type {\n",
              "        vertical-align: middle;\n",
              "    }\n",
              "\n",
              "    .dataframe tbody tr th {\n",
              "        vertical-align: top;\n",
              "    }\n",
              "\n",
              "    .dataframe thead th {\n",
              "        text-align: right;\n",
              "    }\n",
              "</style>\n",
              "<table border=\"1\" class=\"dataframe\">\n",
              "  <thead>\n",
              "    <tr style=\"text-align: right;\">\n",
              "      <th></th>\n",
              "      <th>Value</th>\n",
              "    </tr>\n",
              "  </thead>\n",
              "  <tbody>\n",
              "    <tr>\n",
              "      <th>0</th>\n",
              "      <td>0.076861</td>\n",
              "    </tr>\n",
              "    <tr>\n",
              "      <th>1</th>\n",
              "      <td>0.000000</td>\n",
              "    </tr>\n",
              "    <tr>\n",
              "      <th>2</th>\n",
              "      <td>0.003083</td>\n",
              "    </tr>\n",
              "    <tr>\n",
              "      <th>3</th>\n",
              "      <td>0.006167</td>\n",
              "    </tr>\n",
              "    <tr>\n",
              "      <th>4</th>\n",
              "      <td>0.023491</td>\n",
              "    </tr>\n",
              "  </tbody>\n",
              "</table>\n",
              "</div>\n",
              "      <button class=\"colab-df-convert\" onclick=\"convertToInteractive('df-fc0bbb5e-aa2f-46f4-bbff-b5e73131b46d')\"\n",
              "              title=\"Convert this dataframe to an interactive table.\"\n",
              "              style=\"display:none;\">\n",
              "        \n",
              "  <svg xmlns=\"http://www.w3.org/2000/svg\" height=\"24px\"viewBox=\"0 0 24 24\"\n",
              "       width=\"24px\">\n",
              "    <path d=\"M0 0h24v24H0V0z\" fill=\"none\"/>\n",
              "    <path d=\"M18.56 5.44l.94 2.06.94-2.06 2.06-.94-2.06-.94-.94-2.06-.94 2.06-2.06.94zm-11 1L8.5 8.5l.94-2.06 2.06-.94-2.06-.94L8.5 2.5l-.94 2.06-2.06.94zm10 10l.94 2.06.94-2.06 2.06-.94-2.06-.94-.94-2.06-.94 2.06-2.06.94z\"/><path d=\"M17.41 7.96l-1.37-1.37c-.4-.4-.92-.59-1.43-.59-.52 0-1.04.2-1.43.59L10.3 9.45l-7.72 7.72c-.78.78-.78 2.05 0 2.83L4 21.41c.39.39.9.59 1.41.59.51 0 1.02-.2 1.41-.59l7.78-7.78 2.81-2.81c.8-.78.8-2.07 0-2.86zM5.41 20L4 18.59l7.72-7.72 1.47 1.35L5.41 20z\"/>\n",
              "  </svg>\n",
              "      </button>\n",
              "      \n",
              "  <style>\n",
              "    .colab-df-container {\n",
              "      display:flex;\n",
              "      flex-wrap:wrap;\n",
              "      gap: 12px;\n",
              "    }\n",
              "\n",
              "    .colab-df-convert {\n",
              "      background-color: #E8F0FE;\n",
              "      border: none;\n",
              "      border-radius: 50%;\n",
              "      cursor: pointer;\n",
              "      display: none;\n",
              "      fill: #1967D2;\n",
              "      height: 32px;\n",
              "      padding: 0 0 0 0;\n",
              "      width: 32px;\n",
              "    }\n",
              "\n",
              "    .colab-df-convert:hover {\n",
              "      background-color: #E2EBFA;\n",
              "      box-shadow: 0px 1px 2px rgba(60, 64, 67, 0.3), 0px 1px 3px 1px rgba(60, 64, 67, 0.15);\n",
              "      fill: #174EA6;\n",
              "    }\n",
              "\n",
              "    [theme=dark] .colab-df-convert {\n",
              "      background-color: #3B4455;\n",
              "      fill: #D2E3FC;\n",
              "    }\n",
              "\n",
              "    [theme=dark] .colab-df-convert:hover {\n",
              "      background-color: #434B5C;\n",
              "      box-shadow: 0px 1px 3px 1px rgba(0, 0, 0, 0.15);\n",
              "      filter: drop-shadow(0px 1px 2px rgba(0, 0, 0, 0.3));\n",
              "      fill: #FFFFFF;\n",
              "    }\n",
              "  </style>\n",
              "\n",
              "      <script>\n",
              "        const buttonEl =\n",
              "          document.querySelector('#df-fc0bbb5e-aa2f-46f4-bbff-b5e73131b46d button.colab-df-convert');\n",
              "        buttonEl.style.display =\n",
              "          google.colab.kernel.accessAllowed ? 'block' : 'none';\n",
              "\n",
              "        async function convertToInteractive(key) {\n",
              "          const element = document.querySelector('#df-fc0bbb5e-aa2f-46f4-bbff-b5e73131b46d');\n",
              "          const dataTable =\n",
              "            await google.colab.kernel.invokeFunction('convertToInteractive',\n",
              "                                                     [key], {});\n",
              "          if (!dataTable) return;\n",
              "\n",
              "          const docLinkHtml = 'Like what you see? Visit the ' +\n",
              "            '<a target=\"_blank\" href=https://colab.research.google.com/notebooks/data_table.ipynb>data table notebook</a>'\n",
              "            + ' to learn more about interactive tables.';\n",
              "          element.innerHTML = '';\n",
              "          dataTable['output_type'] = 'display_data';\n",
              "          await google.colab.output.renderOutput(dataTable, element);\n",
              "          const docLink = document.createElement('div');\n",
              "          docLink.innerHTML = docLinkHtml;\n",
              "          element.appendChild(docLink);\n",
              "        }\n",
              "      </script>\n",
              "    </div>\n",
              "  </div>\n",
              "  "
            ]
          },
          "metadata": {},
          "execution_count": 8
        }
      ],
      "source": [
        "#scaling with min max\n",
        "scaler = MinMaxScaler(feature_range = (0,1))\n",
        "train_scaled = scaler.fit_transform(train)\n",
        "train_scaled = pd.DataFrame(train_scaled, columns=['Value'])\n",
        "train_scaled.head(5)"
      ]
    },
    {
      "cell_type": "code",
      "execution_count": 9,
      "metadata": {
        "colab": {
          "base_uri": "https://localhost:8080/",
          "height": 214
        },
        "id": "XcL9sBZ55cA-",
        "outputId": "5e92a488-9c8a-42d2-84b2-9c7a0cea19d1"
      },
      "outputs": [
        {
          "output_type": "display_data",
          "data": {
            "text/plain": [
              "<Figure size 700x200 with 1 Axes>"
            ],
            "image/png": "[encoded data removed]"
          },
          "metadata": {}
        }
      ],
      "source": [
        "#check boxplot\n",
        "train_scaled.boxplot(vert=False, figsize=(7, 2))\n",
        "plt.show()"
      ]
    },
    {
      "cell_type": "code",
      "execution_count": 10,
      "metadata": {
        "colab": {
          "base_uri": "https://localhost:8080/"
        },
        "id": "wTTE-lMXxjiJ",
        "outputId": "739f7244-b92d-4332-f285-5a950abdb2d3"
      },
      "outputs": [
        {
          "output_type": "stream",
          "name": "stdout",
          "text": [
            "x_train shape: (140, 60)\n",
            "y_train shape: (140,)\n"
          ]
        }
      ],
      "source": [
        "#creating a data strcutute with 60 timestamps and 1 output\n",
        "X_train = []\n",
        "y_train = []\n",
        "train_scaled = train_scaled.to_numpy()\n",
        "for i in range(60, train_scaled.size):\n",
        "    X_train.append(train_scaled[i-60:i, 0])\n",
        "    y_train.append(train_scaled[i, 0])\n",
        "X_train, y_train = np.array(X_train), np.array(y_train)\n",
        "print(f'x_train shape: {X_train.shape}')\n",
        "print(f'y_train shape: {y_train.shape}')"
      ]
    },
    {
      "cell_type": "code",
      "execution_count": 11,
      "metadata": {
        "colab": {
          "base_uri": "https://localhost:8080/"
        },
        "id": "NTIGKo3nxmpY",
        "outputId": "f5912ef3-eefc-4943-9560-5849bdd27592"
      },
      "outputs": [
        {
          "output_type": "stream",
          "name": "stdout",
          "text": [
            "x_train shape: (140, 60, 1)\n",
            "y_train shape: (140,)\n"
          ]
        }
      ],
      "source": [
        "#reshaping the data according to the input on the lstm layer\n",
        "X_train = np.reshape(X_train, (X_train.shape[0], X_train.shape[1], 1))\n",
        "print(f'x_train shape: {X_train.shape}')\n",
        "print(f'y_train shape: {y_train.shape}')"
      ]
    },
    {
      "cell_type": "markdown",
      "source": [
        "**Explanation:** The raw data is restructured into predictor and response data with each response having a predictor of 60 timestamps. For regression problems using LSTM (Long Short-Term Memory), it is necessary to prepare data in 3D for the input layer."
      ],
      "metadata": {
        "id": "b3iC5Jebuyu2"
      }
    },
    {
      "cell_type": "markdown",
      "metadata": {
        "id": "wmJI-lHl8mEf"
      },
      "source": [
        "## **Modelling**"
      ]
    },
    {
      "cell_type": "markdown",
      "source": [
        "### **Training with Hyperparameter Searching**"
      ],
      "metadata": {
        "id": "ZpcgeaaY3VVP"
      }
    },
    {
      "cell_type": "code",
      "execution_count": 12,
      "metadata": {
        "id": "dQjiuTAP-5PG"
      },
      "outputs": [],
      "source": [
        "#make function to build model for hyperparameter searching using grid search\n",
        "def Model(layer_lstm, units, dropout, optimizer, regularizer=None, regularizer_rate=0.01):\n",
        "  regularizer = l2(regularizer_rate) if regularizer == 'l2' else l1(regularizer_rate) if regularizer == 'l1' else None\n",
        "  model = Sequential()\n",
        "  #Input layer\n",
        "  model.add(Dense(units, activation='relu', input_shape=(X_train.shape[1], 1)))\n",
        "  for layer in range(layer_lstm-1):\n",
        "  #hidden Layer (LSTM Stack)\n",
        "    model.add(LSTM(units=units, return_sequences=True, kernel_regularizer=regularizer, bias_regularizer=regularizer))\n",
        "    model.add(Dropout(dropout))\n",
        "  model.add(LSTM(units=units, kernel_regularizer=regularizer, bias_regularizer=regularizer))\n",
        "  model.add(Dropout(dropout))\n",
        "  #Output Layer\n",
        "  model.add(Dense(units=1))\n",
        "  model.compile(optimizer=optimizer, loss='mean_squared_error', metrics=['mean_squared_error'])\n",
        "  return model"
      ]
    },
    {
      "cell_type": "code",
      "execution_count": 13,
      "metadata": {
        "id": "l_yx3pAoNTFk",
        "colab": {
          "base_uri": "https://localhost:8080/"
        },
        "outputId": "3cec3d2d-0f35-47d5-8b27-203d1b4c3d1d"
      },
      "outputs": [
        {
          "output_type": "stream",
          "name": "stdout",
          "text": [
            "Fitting for each 32 candidates\n",
            "\n",
            "-------------------------------------------------------------------------------------------------------------- \n",
            "Model: 1 - params: {'layer_lstm': 2, 'units': 200, 'dropout': 0.0, 'optimizer': 'adam', 'regularizer': None}\n",
            "5/5 [==============================] - 1s 6ms/step - loss: 0.0034 - mean_squared_error: 0.0034\n",
            "-------------------------------------------------------------------------------------------------------------- \n",
            "Model: 2 - params: {'layer_lstm': 2, 'units': 200, 'dropout': 0.0, 'optimizer': 'adam', 'regularizer': 'l2'}\n",
            "5/5 [==============================] - 1s 9ms/step - loss: 1.6422 - mean_squared_error: 0.0080\n",
            "-------------------------------------------------------------------------------------------------------------- \n",
            "Model: 3 - params: {'layer_lstm': 2, 'units': 200, 'dropout': 0.0, 'optimizer': 'rmsprop', 'regularizer': None}\n",
            "Epoch 15: early stopping\n",
            "5/5 [==============================] - 1s 7ms/step - loss: 0.0103 - mean_squared_error: 0.0103\n",
            "-------------------------------------------------------------------------------------------------------------- \n",
            "Model: 4 - params: {'layer_lstm': 2, 'units': 200, 'dropout': 0.0, 'optimizer': 'rmsprop', 'regularizer': 'l2'}\n",
            "5/5 [==============================] - 1s 7ms/step - loss: 1.4412 - mean_squared_error: 0.0110\n",
            "-------------------------------------------------------------------------------------------------------------- \n",
            "Model: 5 - params: {'layer_lstm': 2, 'units': 200, 'dropout': 0.25, 'optimizer': 'adam', 'regularizer': None}\n",
            "Epoch 35: early stopping\n",
            "5/5 [==============================] - 1s 7ms/step - loss: 0.0061 - mean_squared_error: 0.0061\n",
            "-------------------------------------------------------------------------------------------------------------- \n",
            "Model: 6 - params: {'layer_lstm': 2, 'units': 200, 'dropout': 0.25, 'optimizer': 'adam', 'regularizer': 'l2'}\n",
            "5/5 [==============================] - 1s 7ms/step - loss: 1.6405 - mean_squared_error: 0.0074\n",
            "-------------------------------------------------------------------------------------------------------------- \n",
            "Model: 7 - params: {'layer_lstm': 2, 'units': 200, 'dropout': 0.25, 'optimizer': 'rmsprop', 'regularizer': None}\n",
            "Epoch 14: early stopping\n",
            "5/5 [==============================] - 1s 6ms/step - loss: 0.0360 - mean_squared_error: 0.0360\n",
            "-------------------------------------------------------------------------------------------------------------- \n",
            "Model: 8 - params: {'layer_lstm': 2, 'units': 200, 'dropout': 0.25, 'optimizer': 'rmsprop', 'regularizer': 'l2'}\n",
            "5/5 [==============================] - 1s 9ms/step - loss: 1.4384 - mean_squared_error: 0.0089\n",
            "-------------------------------------------------------------------------------------------------------------- \n",
            "Model: 9 - params: {'layer_lstm': 2, 'units': 260, 'dropout': 0.0, 'optimizer': 'adam', 'regularizer': None}\n",
            "Epoch 33: early stopping\n",
            "5/5 [==============================] - 1s 10ms/step - loss: 0.0062 - mean_squared_error: 0.0062\n",
            "-------------------------------------------------------------------------------------------------------------- \n",
            "Model: 10 - params: {'layer_lstm': 2, 'units': 260, 'dropout': 0.0, 'optimizer': 'adam', 'regularizer': 'l2'}\n",
            "5/5 [==============================] - 1s 7ms/step - loss: 2.1285 - mean_squared_error: 0.0088\n",
            "-------------------------------------------------------------------------------------------------------------- \n",
            "Model: 11 - params: {'layer_lstm': 2, 'units': 260, 'dropout': 0.0, 'optimizer': 'rmsprop', 'regularizer': None}\n",
            "Epoch 14: early stopping\n",
            "5/5 [==============================] - 1s 8ms/step - loss: 0.0362 - mean_squared_error: 0.0362\n",
            "-------------------------------------------------------------------------------------------------------------- \n",
            "Model: 12 - params: {'layer_lstm': 2, 'units': 260, 'dropout': 0.0, 'optimizer': 'rmsprop', 'regularizer': 'l2'}\n",
            "5/5 [==============================] - 1s 6ms/step - loss: 1.8652 - mean_squared_error: 0.0106\n",
            "-------------------------------------------------------------------------------------------------------------- \n",
            "Model: 13 - params: {'layer_lstm': 2, 'units': 260, 'dropout': 0.25, 'optimizer': 'adam', 'regularizer': None}\n",
            "Epoch 33: early stopping\n",
            "5/5 [==============================] - 1s 7ms/step - loss: 0.0056 - mean_squared_error: 0.0056\n",
            "-------------------------------------------------------------------------------------------------------------- \n",
            "Model: 14 - params: {'layer_lstm': 2, 'units': 260, 'dropout': 0.25, 'optimizer': 'adam', 'regularizer': 'l2'}\n",
            "5/5 [==============================] - 1s 12ms/step - loss: 2.1301 - mean_squared_error: 0.0087\n",
            "-------------------------------------------------------------------------------------------------------------- \n",
            "Model: 15 - params: {'layer_lstm': 2, 'units': 260, 'dropout': 0.25, 'optimizer': 'rmsprop', 'regularizer': None}\n",
            "Epoch 30: early stopping\n",
            "5/5 [==============================] - 1s 8ms/step - loss: 0.0242 - mean_squared_error: 0.0242\n",
            "-------------------------------------------------------------------------------------------------------------- \n",
            "Model: 16 - params: {'layer_lstm': 2, 'units': 260, 'dropout': 0.25, 'optimizer': 'rmsprop', 'regularizer': 'l2'}\n",
            "5/5 [==============================] - 1s 10ms/step - loss: 1.8641 - mean_squared_error: 0.0097\n",
            "-------------------------------------------------------------------------------------------------------------- \n",
            "Model: 17 - params: {'layer_lstm': 3, 'units': 200, 'dropout': 0.0, 'optimizer': 'adam', 'regularizer': None}\n",
            "Epoch 37: early stopping\n",
            "5/5 [==============================] - 1s 12ms/step - loss: 0.0067 - mean_squared_error: 0.0067\n",
            "-------------------------------------------------------------------------------------------------------------- \n",
            "Model: 18 - params: {'layer_lstm': 3, 'units': 200, 'dropout': 0.0, 'optimizer': 'adam', 'regularizer': 'l2'}\n",
            "5/5 [==============================] - 1s 9ms/step - loss: 2.4614 - mean_squared_error: 0.0108\n",
            "-------------------------------------------------------------------------------------------------------------- \n",
            "Model: 19 - params: {'layer_lstm': 3, 'units': 200, 'dropout': 0.0, 'optimizer': 'rmsprop', 'regularizer': None}\n",
            "Epoch 35: early stopping\n",
            "5/5 [==============================] - 1s 12ms/step - loss: 0.0150 - mean_squared_error: 0.0150\n",
            "-------------------------------------------------------------------------------------------------------------- \n",
            "Model: 20 - params: {'layer_lstm': 3, 'units': 200, 'dropout': 0.0, 'optimizer': 'rmsprop', 'regularizer': 'l2'}\n",
            "5/5 [==============================] - 1s 12ms/step - loss: 2.1631 - mean_squared_error: 0.0157\n",
            "-------------------------------------------------------------------------------------------------------------- \n",
            "Model: 21 - params: {'layer_lstm': 3, 'units': 200, 'dropout': 0.25, 'optimizer': 'adam', 'regularizer': None}\n",
            "Epoch 32: early stopping\n",
            "5/5 [==============================] - 1s 12ms/step - loss: 0.0072 - mean_squared_error: 0.0072\n",
            "-------------------------------------------------------------------------------------------------------------- \n",
            "Model: 22 - params: {'layer_lstm': 3, 'units': 200, 'dropout': 0.25, 'optimizer': 'adam', 'regularizer': 'l2'}\n",
            "5/5 [==============================] - 1s 14ms/step - loss: 2.4628 - mean_squared_error: 0.0141\n",
            "-------------------------------------------------------------------------------------------------------------- \n",
            "Model: 23 - params: {'layer_lstm': 3, 'units': 200, 'dropout': 0.25, 'optimizer': 'rmsprop', 'regularizer': None}\n",
            "Epoch 34: early stopping\n",
            "5/5 [==============================] - 1s 11ms/step - loss: 0.0140 - mean_squared_error: 0.0140\n",
            "-------------------------------------------------------------------------------------------------------------- \n",
            "Model: 24 - params: {'layer_lstm': 3, 'units': 200, 'dropout': 0.25, 'optimizer': 'rmsprop', 'regularizer': 'l2'}\n",
            "5/5 [==============================] - 1s 9ms/step - loss: 2.2019 - mean_squared_error: 0.0175\n",
            "-------------------------------------------------------------------------------------------------------------- \n",
            "Model: 25 - params: {'layer_lstm': 3, 'units': 260, 'dropout': 0.0, 'optimizer': 'adam', 'regularizer': None}\n",
            "5/5 [==============================] - 1s 15ms/step - loss: 0.0044 - mean_squared_error: 0.0044\n",
            "-------------------------------------------------------------------------------------------------------------- \n",
            "Model: 26 - params: {'layer_lstm': 3, 'units': 260, 'dropout': 0.0, 'optimizer': 'adam', 'regularizer': 'l2'}\n",
            "5/5 [==============================] - 2s 12ms/step - loss: 3.2127 - mean_squared_error: 0.0138\n",
            "-------------------------------------------------------------------------------------------------------------- \n",
            "Model: 27 - params: {'layer_lstm': 3, 'units': 260, 'dropout': 0.0, 'optimizer': 'rmsprop', 'regularizer': None}\n",
            "Epoch 35: early stopping\n",
            "5/5 [==============================] - 1s 16ms/step - loss: 0.0140 - mean_squared_error: 0.0140\n",
            "-------------------------------------------------------------------------------------------------------------- \n",
            "Model: 28 - params: {'layer_lstm': 3, 'units': 260, 'dropout': 0.0, 'optimizer': 'rmsprop', 'regularizer': 'l2'}\n",
            "5/5 [==============================] - 1s 15ms/step - loss: 2.8266 - mean_squared_error: 0.0212\n",
            "-------------------------------------------------------------------------------------------------------------- \n",
            "Model: 29 - params: {'layer_lstm': 3, 'units': 260, 'dropout': 0.25, 'optimizer': 'adam', 'regularizer': None}\n",
            "Epoch 35: early stopping\n",
            "5/5 [==============================] - 1s 8ms/step - loss: 0.0085 - mean_squared_error: 0.0085\n",
            "-------------------------------------------------------------------------------------------------------------- \n",
            "Model: 30 - params: {'layer_lstm': 3, 'units': 260, 'dropout': 0.25, 'optimizer': 'adam', 'regularizer': 'l2'}\n",
            "5/5 [==============================] - 1s 9ms/step - loss: 3.2209 - mean_squared_error: 0.0113\n",
            "-------------------------------------------------------------------------------------------------------------- \n",
            "Model: 31 - params: {'layer_lstm': 3, 'units': 260, 'dropout': 0.25, 'optimizer': 'rmsprop', 'regularizer': None}\n",
            "Epoch 15: early stopping\n",
            "5/5 [==============================] - 1s 9ms/step - loss: 0.0428 - mean_squared_error: 0.0428\n",
            "-------------------------------------------------------------------------------------------------------------- \n",
            "Model: 32 - params: {'layer_lstm': 3, 'units': 260, 'dropout': 0.25, 'optimizer': 'rmsprop', 'regularizer': 'l2'}\n",
            "5/5 [==============================] - 1s 15ms/step - loss: 2.7997 - mean_squared_error: 0.0170\n",
            "----------------------------------------------------------------------------------------------------\n",
            "\n",
            "Execution Time: 6.26 min\n"
          ]
        }
      ],
      "source": [
        "#prepare hyperparameter \n",
        "params = {\n",
        "    'layer_lstm': [2, 3],\n",
        "    'units': [200, 260],\n",
        "    'dropout': [0.0, 0.25],\n",
        "    'optimizer': ['adam', 'rmsprop'],\n",
        "    'regularizer': [None, 'l2'],\n",
        "}\n",
        "\n",
        "#function for grid search\n",
        "def GridSearch(X, y, fn_model, params, epochs, batch_size, callbacks=None, verbose=1):\n",
        "  candidates = [dict(zip(params.keys(), c)) for c in list(product(*params.values()))]\n",
        "  print(f'Fitting for each {len(candidates)} candidates\\n')\n",
        "  models = {}\n",
        "  for i, c in enumerate(candidates):\n",
        "    model = fn_model(**c)\n",
        "    print((\"-\"*110), f'\\nModel: {i+1} - params: {c}')\n",
        "    model.fit(X, y, epochs=epochs, batch_size=batch_size, verbose=verbose, callbacks=callbacks)\n",
        "    loss, mse = model.evaluate(X, y)\n",
        "    models[f'Model_{i+1}'] = {'params' : c, 'model' : model, 'loss' : loss, 'mse' : mse,}\n",
        "  print(\"-\"*100)\n",
        "  return models\n",
        "\n",
        "#define early stopping for reduce time when fitting model\n",
        "es = EarlyStopping(monitor='loss', mode='min', verbose=1, patience=10)\n",
        "\n",
        "#start fitting grid search\n",
        "start = time.time()\n",
        "models = GridSearch(X_train, y_train, Model, params, epochs=100, batch_size=42, callbacks=[es], verbose=0)\n",
        "print(f'\\nExecution Time: {round((time.time() - start)/60, 2)} min')"
      ]
    },
    {
      "cell_type": "code",
      "source": [
        "#view the results of a grid search\n",
        "df_models = pd.DataFrame(models).transpose()\n",
        "df_models"
      ],
      "metadata": {
        "id": "-AoOKWbllF1_",
        "colab": {
          "base_uri": "https://localhost:8080/",
          "height": 1000
        },
        "outputId": "92d18ebc-91de-4db0-e994-e6438fe24cfd"
      },
      "execution_count": 14,
      "outputs": [
        {
          "output_type": "execute_result",
          "data": {
            "text/plain": [
              "                                                     params  \\\n",
              "Model_1   {'layer_lstm': 2, 'units': 200, 'dropout': 0.0...   \n",
              "Model_2   {'layer_lstm': 2, 'units': 200, 'dropout': 0.0...   \n",
              "Model_3   {'layer_lstm': 2, 'units': 200, 'dropout': 0.0...   \n",
              "Model_4   {'layer_lstm': 2, 'units': 200, 'dropout': 0.0...   \n",
              "Model_5   {'layer_lstm': 2, 'units': 200, 'dropout': 0.2...   \n",
              "Model_6   {'layer_lstm': 2, 'units': 200, 'dropout': 0.2...   \n",
              "Model_7   {'layer_lstm': 2, 'units': 200, 'dropout': 0.2...   \n",
              "Model_8   {'layer_lstm': 2, 'units': 200, 'dropout': 0.2...   \n",
              "Model_9   {'layer_lstm': 2, 'units': 260, 'dropout': 0.0...   \n",
              "Model_10  {'layer_lstm': 2, 'units': 260, 'dropout': 0.0...   \n",
              "Model_11  {'layer_lstm': 2, 'units': 260, 'dropout': 0.0...   \n",
              "Model_12  {'layer_lstm': 2, 'units': 260, 'dropout': 0.0...   \n",
              "Model_13  {'layer_lstm': 2, 'units': 260, 'dropout': 0.2...   \n",
              "Model_14  {'layer_lstm': 2, 'units': 260, 'dropout': 0.2...   \n",
              "Model_15  {'layer_lstm': 2, 'units': 260, 'dropout': 0.2...   \n",
              "Model_16  {'layer_lstm': 2, 'units': 260, 'dropout': 0.2...   \n",
              "Model_17  {'layer_lstm': 3, 'units': 200, 'dropout': 0.0...   \n",
              "Model_18  {'layer_lstm': 3, 'units': 200, 'dropout': 0.0...   \n",
              "Model_19  {'layer_lstm': 3, 'units': 200, 'dropout': 0.0...   \n",
              "Model_20  {'layer_lstm': 3, 'units': 200, 'dropout': 0.0...   \n",
              "Model_21  {'layer_lstm': 3, 'units': 200, 'dropout': 0.2...   \n",
              "Model_22  {'layer_lstm': 3, 'units': 200, 'dropout': 0.2...   \n",
              "Model_23  {'layer_lstm': 3, 'units': 200, 'dropout': 0.2...   \n",
              "Model_24  {'layer_lstm': 3, 'units': 200, 'dropout': 0.2...   \n",
              "Model_25  {'layer_lstm': 3, 'units': 260, 'dropout': 0.0...   \n",
              "Model_26  {'layer_lstm': 3, 'units': 260, 'dropout': 0.0...   \n",
              "Model_27  {'layer_lstm': 3, 'units': 260, 'dropout': 0.0...   \n",
              "Model_28  {'layer_lstm': 3, 'units': 260, 'dropout': 0.0...   \n",
              "Model_29  {'layer_lstm': 3, 'units': 260, 'dropout': 0.2...   \n",
              "Model_30  {'layer_lstm': 3, 'units': 260, 'dropout': 0.2...   \n",
              "Model_31  {'layer_lstm': 3, 'units': 260, 'dropout': 0.2...   \n",
              "Model_32  {'layer_lstm': 3, 'units': 260, 'dropout': 0.2...   \n",
              "\n",
              "                                                      model      loss  \\\n",
              "Model_1   <keras.engine.sequential.Sequential object at ...  0.003371   \n",
              "Model_2   <keras.engine.sequential.Sequential object at ...  1.642196   \n",
              "Model_3   <keras.engine.sequential.Sequential object at ...  0.010333   \n",
              "Model_4   <keras.engine.sequential.Sequential object at ...   1.44118   \n",
              "Model_5   <keras.engine.sequential.Sequential object at ...  0.006095   \n",
              "Model_6   <keras.engine.sequential.Sequential object at ...  1.640492   \n",
              "Model_7   <keras.engine.sequential.Sequential object at ...  0.035971   \n",
              "Model_8   <keras.engine.sequential.Sequential object at ...  1.438374   \n",
              "Model_9   <keras.engine.sequential.Sequential object at ...  0.006187   \n",
              "Model_10  <keras.engine.sequential.Sequential object at ...  2.128472   \n",
              "Model_11  <keras.engine.sequential.Sequential object at ...  0.036176   \n",
              "Model_12  <keras.engine.sequential.Sequential object at ...  1.865215   \n",
              "Model_13  <keras.engine.sequential.Sequential object at ...  0.005575   \n",
              "Model_14  <keras.engine.sequential.Sequential object at ...  2.130147   \n",
              "Model_15  <keras.engine.sequential.Sequential object at ...  0.024193   \n",
              "Model_16  <keras.engine.sequential.Sequential object at ...  1.864142   \n",
              "Model_17  <keras.engine.sequential.Sequential object at ...  0.006717   \n",
              "Model_18  <keras.engine.sequential.Sequential object at ...  2.461367   \n",
              "Model_19  <keras.engine.sequential.Sequential object at ...  0.014994   \n",
              "Model_20  <keras.engine.sequential.Sequential object at ...  2.163084   \n",
              "Model_21  <keras.engine.sequential.Sequential object at ...  0.007201   \n",
              "Model_22  <keras.engine.sequential.Sequential object at ...  2.462785   \n",
              "Model_23  <keras.engine.sequential.Sequential object at ...  0.013993   \n",
              "Model_24  <keras.engine.sequential.Sequential object at ...  2.201861   \n",
              "Model_25  <keras.engine.sequential.Sequential object at ...  0.004389   \n",
              "Model_26  <keras.engine.sequential.Sequential object at ...  3.212748   \n",
              "Model_27  <keras.engine.sequential.Sequential object at ...  0.013987   \n",
              "Model_28  <keras.engine.sequential.Sequential object at ...  2.826564   \n",
              "Model_29  <keras.engine.sequential.Sequential object at ...  0.008455   \n",
              "Model_30  <keras.engine.sequential.Sequential object at ...  3.220917   \n",
              "Model_31  <keras.engine.sequential.Sequential object at ...  0.042831   \n",
              "Model_32  <keras.engine.sequential.Sequential object at ...  2.799722   \n",
              "\n",
              "               mse  \n",
              "Model_1   0.003371  \n",
              "Model_2   0.008007  \n",
              "Model_3   0.010333  \n",
              "Model_4   0.011046  \n",
              "Model_5   0.006095  \n",
              "Model_6     0.0074  \n",
              "Model_7   0.035971  \n",
              "Model_8   0.008911  \n",
              "Model_9   0.006187  \n",
              "Model_10  0.008795  \n",
              "Model_11  0.036176  \n",
              "Model_12  0.010609  \n",
              "Model_13  0.005575  \n",
              "Model_14  0.008685  \n",
              "Model_15  0.024193  \n",
              "Model_16  0.009668  \n",
              "Model_17  0.006717  \n",
              "Model_18  0.010794  \n",
              "Model_19  0.014994  \n",
              "Model_20   0.01566  \n",
              "Model_21  0.007201  \n",
              "Model_22  0.014064  \n",
              "Model_23  0.013993  \n",
              "Model_24  0.017473  \n",
              "Model_25  0.004389  \n",
              "Model_26  0.013843  \n",
              "Model_27  0.013987  \n",
              "Model_28  0.021235  \n",
              "Model_29  0.008455  \n",
              "Model_30   0.01134  \n",
              "Model_31  0.042831  \n",
              "Model_32   0.01699  "
            ],
            "text/html": [
              "\n",
              "  <div id=\"df-c487f79d-2242-4714-a4c0-6431972532ff\">\n",
              "    <div class=\"colab-df-container\">\n",
              "      <div>\n",
              "<style scoped>\n",
              "    .dataframe tbody tr th:only-of-type {\n",
              "        vertical-align: middle;\n",
              "    }\n",
              "\n",
              "    .dataframe tbody tr th {\n",
              "        vertical-align: top;\n",
              "    }\n",
              "\n",
              "    .dataframe thead th {\n",
              "        text-align: right;\n",
              "    }\n",
              "</style>\n",
              "<table border=\"1\" class=\"dataframe\">\n",
              "  <thead>\n",
              "    <tr style=\"text-align: right;\">\n",
              "      <th></th>\n",
              "      <th>params</th>\n",
              "      <th>model</th>\n",
              "      <th>loss</th>\n",
              "      <th>mse</th>\n",
              "    </tr>\n",
              "  </thead>\n",
              "  <tbody>\n",
              "    <tr>\n",
              "      <th>Model_1</th>\n",
              "      <td>{'layer_lstm': 2, 'units': 200, 'dropout': 0.0...</td>\n",
              "      <td>&lt;keras.engine.sequential.Sequential object at ...</td>\n",
              "      <td>0.003371</td>\n",
              "      <td>0.003371</td>\n",
              "    </tr>\n",
              "    <tr>\n",
              "      <th>Model_2</th>\n",
              "      <td>{'layer_lstm': 2, 'units': 200, 'dropout': 0.0...</td>\n",
              "      <td>&lt;keras.engine.sequential.Sequential object at ...</td>\n",
              "      <td>1.642196</td>\n",
              "      <td>0.008007</td>\n",
              "    </tr>\n",
              "    <tr>\n",
              "      <th>Model_3</th>\n",
              "      <td>{'layer_lstm': 2, 'units': 200, 'dropout': 0.0...</td>\n",
              "      <td>&lt;keras.engine.sequential.Sequential object at ...</td>\n",
              "      <td>0.010333</td>\n",
              "      <td>0.010333</td>\n",
              "    </tr>\n",
              "    <tr>\n",
              "      <th>Model_4</th>\n",
              "      <td>{'layer_lstm': 2, 'units': 200, 'dropout': 0.0...</td>\n",
              "      <td>&lt;keras.engine.sequential.Sequential object at ...</td>\n",
              "      <td>1.44118</td>\n",
              "      <td>0.011046</td>\n",
              "    </tr>\n",
              "    <tr>\n",
              "      <th>Model_5</th>\n",
              "      <td>{'layer_lstm': 2, 'units': 200, 'dropout': 0.2...</td>\n",
              "      <td>&lt;keras.engine.sequential.Sequential object at ...</td>\n",
              "      <td>0.006095</td>\n",
              "      <td>0.006095</td>\n",
              "    </tr>\n",
              "    <tr>\n",
              "      <th>Model_6</th>\n",
              "      <td>{'layer_lstm': 2, 'units': 200, 'dropout': 0.2...</td>\n",
              "      <td>&lt;keras.engine.sequential.Sequential object at ...</td>\n",
              "      <td>1.640492</td>\n",
              "      <td>0.0074</td>\n",
              "    </tr>\n",
              "    <tr>\n",
              "      <th>Model_7</th>\n",
              "      <td>{'layer_lstm': 2, 'units': 200, 'dropout': 0.2...</td>\n",
              "      <td>&lt;keras.engine.sequential.Sequential object at ...</td>\n",
              "      <td>0.035971</td>\n",
              "      <td>0.035971</td>\n",
              "    </tr>\n",
              "    <tr>\n",
              "      <th>Model_8</th>\n",
              "      <td>{'layer_lstm': 2, 'units': 200, 'dropout': 0.2...</td>\n",
              "      <td>&lt;keras.engine.sequential.Sequential object at ...</td>\n",
              "      <td>1.438374</td>\n",
              "      <td>0.008911</td>\n",
              "    </tr>\n",
              "    <tr>\n",
              "      <th>Model_9</th>\n",
              "      <td>{'layer_lstm': 2, 'units': 260, 'dropout': 0.0...</td>\n",
              "      <td>&lt;keras.engine.sequential.Sequential object at ...</td>\n",
              "      <td>0.006187</td>\n",
              "      <td>0.006187</td>\n",
              "    </tr>\n",
              "    <tr>\n",
              "      <th>Model_10</th>\n",
              "      <td>{'layer_lstm': 2, 'units': 260, 'dropout': 0.0...</td>\n",
              "      <td>&lt;keras.engine.sequential.Sequential object at ...</td>\n",
              "      <td>2.128472</td>\n",
              "      <td>0.008795</td>\n",
              "    </tr>\n",
              "    <tr>\n",
              "      <th>Model_11</th>\n",
              "      <td>{'layer_lstm': 2, 'units': 260, 'dropout': 0.0...</td>\n",
              "      <td>&lt;keras.engine.sequential.Sequential object at ...</td>\n",
              "      <td>0.036176</td>\n",
              "      <td>0.036176</td>\n",
              "    </tr>\n",
              "    <tr>\n",
              "      <th>Model_12</th>\n",
              "      <td>{'layer_lstm': 2, 'units': 260, 'dropout': 0.0...</td>\n",
              "      <td>&lt;keras.engine.sequential.Sequential object at ...</td>\n",
              "      <td>1.865215</td>\n",
              "      <td>0.010609</td>\n",
              "    </tr>\n",
              "    <tr>\n",
              "      <th>Model_13</th>\n",
              "      <td>{'layer_lstm': 2, 'units': 260, 'dropout': 0.2...</td>\n",
              "      <td>&lt;keras.engine.sequential.Sequential object at ...</td>\n",
              "      <td>0.005575</td>\n",
              "      <td>0.005575</td>\n",
              "    </tr>\n",
              "    <tr>\n",
              "      <th>Model_14</th>\n",
              "      <td>{'layer_lstm': 2, 'units': 260, 'dropout': 0.2...</td>\n",
              "      <td>&lt;keras.engine.sequential.Sequential object at ...</td>\n",
              "      <td>2.130147</td>\n",
              "      <td>0.008685</td>\n",
              "    </tr>\n",
              "    <tr>\n",
              "      <th>Model_15</th>\n",
              "      <td>{'layer_lstm': 2, 'units': 260, 'dropout': 0.2...</td>\n",
              "      <td>&lt;keras.engine.sequential.Sequential object at ...</td>\n",
              "      <td>0.024193</td>\n",
              "      <td>0.024193</td>\n",
              "    </tr>\n",
              "    <tr>\n",
              "      <th>Model_16</th>\n",
              "      <td>{'layer_lstm': 2, 'units': 260, 'dropout': 0.2...</td>\n",
              "      <td>&lt;keras.engine.sequential.Sequential object at ...</td>\n",
              "      <td>1.864142</td>\n",
              "      <td>0.009668</td>\n",
              "    </tr>\n",
              "    <tr>\n",
              "      <th>Model_17</th>\n",
              "      <td>{'layer_lstm': 3, 'units': 200, 'dropout': 0.0...</td>\n",
              "      <td>&lt;keras.engine.sequential.Sequential object at ...</td>\n",
              "      <td>0.006717</td>\n",
              "      <td>0.006717</td>\n",
              "    </tr>\n",
              "    <tr>\n",
              "      <th>Model_18</th>\n",
              "      <td>{'layer_lstm': 3, 'units': 200, 'dropout': 0.0...</td>\n",
              "      <td>&lt;keras.engine.sequential.Sequential object at ...</td>\n",
              "      <td>2.461367</td>\n",
              "      <td>0.010794</td>\n",
              "    </tr>\n",
              "    <tr>\n",
              "      <th>Model_19</th>\n",
              "      <td>{'layer_lstm': 3, 'units': 200, 'dropout': 0.0...</td>\n",
              "      <td>&lt;keras.engine.sequential.Sequential object at ...</td>\n",
              "      <td>0.014994</td>\n",
              "      <td>0.014994</td>\n",
              "    </tr>\n",
              "    <tr>\n",
              "      <th>Model_20</th>\n",
              "      <td>{'layer_lstm': 3, 'units': 200, 'dropout': 0.0...</td>\n",
              "      <td>&lt;keras.engine.sequential.Sequential object at ...</td>\n",
              "      <td>2.163084</td>\n",
              "      <td>0.01566</td>\n",
              "    </tr>\n",
              "    <tr>\n",
              "      <th>Model_21</th>\n",
              "      <td>{'layer_lstm': 3, 'units': 200, 'dropout': 0.2...</td>\n",
              "      <td>&lt;keras.engine.sequential.Sequential object at ...</td>\n",
              "      <td>0.007201</td>\n",
              "      <td>0.007201</td>\n",
              "    </tr>\n",
              "    <tr>\n",
              "      <th>Model_22</th>\n",
              "      <td>{'layer_lstm': 3, 'units': 200, 'dropout': 0.2...</td>\n",
              "      <td>&lt;keras.engine.sequential.Sequential object at ...</td>\n",
              "      <td>2.462785</td>\n",
              "      <td>0.014064</td>\n",
              "    </tr>\n",
              "    <tr>\n",
              "      <th>Model_23</th>\n",
              "      <td>{'layer_lstm': 3, 'units': 200, 'dropout': 0.2...</td>\n",
              "      <td>&lt;keras.engine.sequential.Sequential object at ...</td>\n",
              "      <td>0.013993</td>\n",
              "      <td>0.013993</td>\n",
              "    </tr>\n",
              "    <tr>\n",
              "      <th>Model_24</th>\n",
              "      <td>{'layer_lstm': 3, 'units': 200, 'dropout': 0.2...</td>\n",
              "      <td>&lt;keras.engine.sequential.Sequential object at ...</td>\n",
              "      <td>2.201861</td>\n",
              "      <td>0.017473</td>\n",
              "    </tr>\n",
              "    <tr>\n",
              "      <th>Model_25</th>\n",
              "      <td>{'layer_lstm': 3, 'units': 260, 'dropout': 0.0...</td>\n",
              "      <td>&lt;keras.engine.sequential.Sequential object at ...</td>\n",
              "      <td>0.004389</td>\n",
              "      <td>0.004389</td>\n",
              "    </tr>\n",
              "    <tr>\n",
              "      <th>Model_26</th>\n",
              "      <td>{'layer_lstm': 3, 'units': 260, 'dropout': 0.0...</td>\n",
              "      <td>&lt;keras.engine.sequential.Sequential object at ...</td>\n",
              "      <td>3.212748</td>\n",
              "      <td>0.013843</td>\n",
              "    </tr>\n",
              "    <tr>\n",
              "      <th>Model_27</th>\n",
              "      <td>{'layer_lstm': 3, 'units': 260, 'dropout': 0.0...</td>\n",
              "      <td>&lt;keras.engine.sequential.Sequential object at ...</td>\n",
              "      <td>0.013987</td>\n",
              "      <td>0.013987</td>\n",
              "    </tr>\n",
              "    <tr>\n",
              "      <th>Model_28</th>\n",
              "      <td>{'layer_lstm': 3, 'units': 260, 'dropout': 0.0...</td>\n",
              "      <td>&lt;keras.engine.sequential.Sequential object at ...</td>\n",
              "      <td>2.826564</td>\n",
              "      <td>0.021235</td>\n",
              "    </tr>\n",
              "    <tr>\n",
              "      <th>Model_29</th>\n",
              "      <td>{'layer_lstm': 3, 'units': 260, 'dropout': 0.2...</td>\n",
              "      <td>&lt;keras.engine.sequential.Sequential object at ...</td>\n",
              "      <td>0.008455</td>\n",
              "      <td>0.008455</td>\n",
              "    </tr>\n",
              "    <tr>\n",
              "      <th>Model_30</th>\n",
              "      <td>{'layer_lstm': 3, 'units': 260, 'dropout': 0.2...</td>\n",
              "      <td>&lt;keras.engine.sequential.Sequential object at ...</td>\n",
              "      <td>3.220917</td>\n",
              "      <td>0.01134</td>\n",
              "    </tr>\n",
              "    <tr>\n",
              "      <th>Model_31</th>\n",
              "      <td>{'layer_lstm': 3, 'units': 260, 'dropout': 0.2...</td>\n",
              "      <td>&lt;keras.engine.sequential.Sequential object at ...</td>\n",
              "      <td>0.042831</td>\n",
              "      <td>0.042831</td>\n",
              "    </tr>\n",
              "    <tr>\n",
              "      <th>Model_32</th>\n",
              "      <td>{'layer_lstm': 3, 'units': 260, 'dropout': 0.2...</td>\n",
              "      <td>&lt;keras.engine.sequential.Sequential object at ...</td>\n",
              "      <td>2.799722</td>\n",
              "      <td>0.01699</td>\n",
              "    </tr>\n",
              "  </tbody>\n",
              "</table>\n",
              "</div>\n",
              "      <button class=\"colab-df-convert\" onclick=\"convertToInteractive('df-c487f79d-2242-4714-a4c0-6431972532ff')\"\n",
              "              title=\"Convert this dataframe to an interactive table.\"\n",
              "              style=\"display:none;\">\n",
              "        \n",
              "  <svg xmlns=\"http://www.w3.org/2000/svg\" height=\"24px\"viewBox=\"0 0 24 24\"\n",
              "       width=\"24px\">\n",
              "    <path d=\"M0 0h24v24H0V0z\" fill=\"none\"/>\n",
              "    <path d=\"M18.56 5.44l.94 2.06.94-2.06 2.06-.94-2.06-.94-.94-2.06-.94 2.06-2.06.94zm-11 1L8.5 8.5l.94-2.06 2.06-.94-2.06-.94L8.5 2.5l-.94 2.06-2.06.94zm10 10l.94 2.06.94-2.06 2.06-.94-2.06-.94-.94-2.06-.94 2.06-2.06.94z\"/><path d=\"M17.41 7.96l-1.37-1.37c-.4-.4-.92-.59-1.43-.59-.52 0-1.04.2-1.43.59L10.3 9.45l-7.72 7.72c-.78.78-.78 2.05 0 2.83L4 21.41c.39.39.9.59 1.41.59.51 0 1.02-.2 1.41-.59l7.78-7.78 2.81-2.81c.8-.78.8-2.07 0-2.86zM5.41 20L4 18.59l7.72-7.72 1.47 1.35L5.41 20z\"/>\n",
              "  </svg>\n",
              "      </button>\n",
              "      \n",
              "  <style>\n",
              "    .colab-df-container {\n",
              "      display:flex;\n",
              "      flex-wrap:wrap;\n",
              "      gap: 12px;\n",
              "    }\n",
              "\n",
              "    .colab-df-convert {\n",
              "      background-color: #E8F0FE;\n",
              "      border: none;\n",
              "      border-radius: 50%;\n",
              "      cursor: pointer;\n",
              "      display: none;\n",
              "      fill: #1967D2;\n",
              "      height: 32px;\n",
              "      padding: 0 0 0 0;\n",
              "      width: 32px;\n",
              "    }\n",
              "\n",
              "    .colab-df-convert:hover {\n",
              "      background-color: #E2EBFA;\n",
              "      box-shadow: 0px 1px 2px rgba(60, 64, 67, 0.3), 0px 1px 3px 1px rgba(60, 64, 67, 0.15);\n",
              "      fill: #174EA6;\n",
              "    }\n",
              "\n",
              "    [theme=dark] .colab-df-convert {\n",
              "      background-color: #3B4455;\n",
              "      fill: #D2E3FC;\n",
              "    }\n",
              "\n",
              "    [theme=dark] .colab-df-convert:hover {\n",
              "      background-color: #434B5C;\n",
              "      box-shadow: 0px 1px 3px 1px rgba(0, 0, 0, 0.15);\n",
              "      filter: drop-shadow(0px 1px 2px rgba(0, 0, 0, 0.3));\n",
              "      fill: #FFFFFF;\n",
              "    }\n",
              "  </style>\n",
              "\n",
              "      <script>\n",
              "        const buttonEl =\n",
              "          document.querySelector('#df-c487f79d-2242-4714-a4c0-6431972532ff button.colab-df-convert');\n",
              "        buttonEl.style.display =\n",
              "          google.colab.kernel.accessAllowed ? 'block' : 'none';\n",
              "\n",
              "        async function convertToInteractive(key) {\n",
              "          const element = document.querySelector('#df-c487f79d-2242-4714-a4c0-6431972532ff');\n",
              "          const dataTable =\n",
              "            await google.colab.kernel.invokeFunction('convertToInteractive',\n",
              "                                                     [key], {});\n",
              "          if (!dataTable) return;\n",
              "\n",
              "          const docLinkHtml = 'Like what you see? Visit the ' +\n",
              "            '<a target=\"_blank\" href=https://colab.research.google.com/notebooks/data_table.ipynb>data table notebook</a>'\n",
              "            + ' to learn more about interactive tables.';\n",
              "          element.innerHTML = '';\n",
              "          dataTable['output_type'] = 'display_data';\n",
              "          await google.colab.output.renderOutput(dataTable, element);\n",
              "          const docLink = document.createElement('div');\n",
              "          docLink.innerHTML = docLinkHtml;\n",
              "          element.appendChild(docLink);\n",
              "        }\n",
              "      </script>\n",
              "    </div>\n",
              "  </div>\n",
              "  "
            ]
          },
          "metadata": {},
          "execution_count": 14
        }
      ]
    },
    {
      "cell_type": "code",
      "source": [
        "#find the best model with minimum loss\n",
        "idx = 0 \n",
        "loss = float(df_models[['loss']].max())\n",
        "for i in range(len(df_models)):\n",
        "  mse_ = df_models.iloc[i]['mse']\n",
        "  loss_ =  df_models.iloc[i]['loss']\n",
        "  if(mse_ == loss_):\n",
        "    if(loss_ < loss):\n",
        "      loss = loss_\n",
        "      idx = i\n",
        "\n",
        "print(f\"idx         : {idx}\")\n",
        "print(f\"model       : {df_models.iloc[idx].name}\")\n",
        "print(f\"best params : {df_models.iloc[idx]['params']}\")\n",
        "print(f\"best MSE    : {df_models.iloc[idx]['mse']}\")\n",
        "print(f\"minimum LOSS: {df_models.iloc[idx]['loss']}\")"
      ],
      "metadata": {
        "id": "5FGgt3tkOx5Q",
        "colab": {
          "base_uri": "https://localhost:8080/"
        },
        "outputId": "18dab5fd-2cdf-472a-d64f-c12df0221cb0"
      },
      "execution_count": 15,
      "outputs": [
        {
          "output_type": "stream",
          "name": "stdout",
          "text": [
            "idx         : 0\n",
            "model       : Model_1\n",
            "best params : {'layer_lstm': 2, 'units': 200, 'dropout': 0.0, 'optimizer': 'adam', 'regularizer': None}\n",
            "best MSE    : 0.003371208906173706\n",
            "minimum LOSS: 0.003371208906173706\n"
          ]
        }
      ]
    },
    {
      "cell_type": "code",
      "source": [
        "#using best model\n",
        "regressor = df_models.iloc[idx].model\n",
        "regressor.get_metrics_result()"
      ],
      "metadata": {
        "id": "bx9ozdTiUszD",
        "colab": {
          "base_uri": "https://localhost:8080/"
        },
        "outputId": "c8ce940d-aaa8-4f7a-e356-1d684ab35e2a"
      },
      "execution_count": 16,
      "outputs": [
        {
          "output_type": "execute_result",
          "data": {
            "text/plain": [
              "{'loss': <tf.Tensor: shape=(), dtype=float32, numpy=0.003371209>,\n",
              " 'mean_squared_error': <tf.Tensor: shape=(), dtype=float32, numpy=0.003371209>}"
            ]
          },
          "metadata": {},
          "execution_count": 16
        }
      ]
    },
    {
      "cell_type": "markdown",
      "source": [
        "**Explanation:** To find the best model, a Grid Search is performed by calling the Model() function which will later be called by the GridSearch() function with the parameters that have been prepared. In this Grid Search, do not use cross validation and directly fit the training data on the model to find the best hyperparameters with minimal loss. In addition, to reduce execution time, early stopping is also implemented with patience=10. The combination of hyperparameters used includes the number of layers LSTM, units, dropouts, optimizer, and regularizer."
      ],
      "metadata": {
        "id": "f_Ko-JNm2pb7"
      }
    },
    {
      "cell_type": "markdown",
      "metadata": {
        "id": "qZM6bbcFzulX"
      },
      "source": [
        "### **Testing**"
      ]
    },
    {
      "cell_type": "code",
      "execution_count": 17,
      "metadata": {
        "id": "K24ukByHzoMa",
        "colab": {
          "base_uri": "https://localhost:8080/",
          "height": 206
        },
        "outputId": "a2dacd55-acdc-4c71-836f-745778a6da81"
      },
      "outputs": [
        {
          "output_type": "execute_result",
          "data": {
            "text/plain": [
              "         Value\n",
              "0  15450.00000\n",
              "1  15489.00000\n",
              "2  15472.59961\n",
              "3  15409.00000\n",
              "4  15372.00000"
            ],
            "text/html": [
              "\n",
              "  <div id=\"df-4df2873e-635d-4801-abfe-39a9c86063db\">\n",
              "    <div class=\"colab-df-container\">\n",
              "      <div>\n",
              "<style scoped>\n",
              "    .dataframe tbody tr th:only-of-type {\n",
              "        vertical-align: middle;\n",
              "    }\n",
              "\n",
              "    .dataframe tbody tr th {\n",
              "        vertical-align: top;\n",
              "    }\n",
              "\n",
              "    .dataframe thead th {\n",
              "        text-align: right;\n",
              "    }\n",
              "</style>\n",
              "<table border=\"1\" class=\"dataframe\">\n",
              "  <thead>\n",
              "    <tr style=\"text-align: right;\">\n",
              "      <th></th>\n",
              "      <th>Value</th>\n",
              "    </tr>\n",
              "  </thead>\n",
              "  <tbody>\n",
              "    <tr>\n",
              "      <th>0</th>\n",
              "      <td>15450.00000</td>\n",
              "    </tr>\n",
              "    <tr>\n",
              "      <th>1</th>\n",
              "      <td>15489.00000</td>\n",
              "    </tr>\n",
              "    <tr>\n",
              "      <th>2</th>\n",
              "      <td>15472.59961</td>\n",
              "    </tr>\n",
              "    <tr>\n",
              "      <th>3</th>\n",
              "      <td>15409.00000</td>\n",
              "    </tr>\n",
              "    <tr>\n",
              "      <th>4</th>\n",
              "      <td>15372.00000</td>\n",
              "    </tr>\n",
              "  </tbody>\n",
              "</table>\n",
              "</div>\n",
              "      <button class=\"colab-df-convert\" onclick=\"convertToInteractive('df-4df2873e-635d-4801-abfe-39a9c86063db')\"\n",
              "              title=\"Convert this dataframe to an interactive table.\"\n",
              "              style=\"display:none;\">\n",
              "        \n",
              "  <svg xmlns=\"http://www.w3.org/2000/svg\" height=\"24px\"viewBox=\"0 0 24 24\"\n",
              "       width=\"24px\">\n",
              "    <path d=\"M0 0h24v24H0V0z\" fill=\"none\"/>\n",
              "    <path d=\"M18.56 5.44l.94 2.06.94-2.06 2.06-.94-2.06-.94-.94-2.06-.94 2.06-2.06.94zm-11 1L8.5 8.5l.94-2.06 2.06-.94-2.06-.94L8.5 2.5l-.94 2.06-2.06.94zm10 10l.94 2.06.94-2.06 2.06-.94-2.06-.94-.94-2.06-.94 2.06-2.06.94z\"/><path d=\"M17.41 7.96l-1.37-1.37c-.4-.4-.92-.59-1.43-.59-.52 0-1.04.2-1.43.59L10.3 9.45l-7.72 7.72c-.78.78-.78 2.05 0 2.83L4 21.41c.39.39.9.59 1.41.59.51 0 1.02-.2 1.41-.59l7.78-7.78 2.81-2.81c.8-.78.8-2.07 0-2.86zM5.41 20L4 18.59l7.72-7.72 1.47 1.35L5.41 20z\"/>\n",
              "  </svg>\n",
              "      </button>\n",
              "      \n",
              "  <style>\n",
              "    .colab-df-container {\n",
              "      display:flex;\n",
              "      flex-wrap:wrap;\n",
              "      gap: 12px;\n",
              "    }\n",
              "\n",
              "    .colab-df-convert {\n",
              "      background-color: #E8F0FE;\n",
              "      border: none;\n",
              "      border-radius: 50%;\n",
              "      cursor: pointer;\n",
              "      display: none;\n",
              "      fill: #1967D2;\n",
              "      height: 32px;\n",
              "      padding: 0 0 0 0;\n",
              "      width: 32px;\n",
              "    }\n",
              "\n",
              "    .colab-df-convert:hover {\n",
              "      background-color: #E2EBFA;\n",
              "      box-shadow: 0px 1px 2px rgba(60, 64, 67, 0.3), 0px 1px 3px 1px rgba(60, 64, 67, 0.15);\n",
              "      fill: #174EA6;\n",
              "    }\n",
              "\n",
              "    [theme=dark] .colab-df-convert {\n",
              "      background-color: #3B4455;\n",
              "      fill: #D2E3FC;\n",
              "    }\n",
              "\n",
              "    [theme=dark] .colab-df-convert:hover {\n",
              "      background-color: #434B5C;\n",
              "      box-shadow: 0px 1px 3px 1px rgba(0, 0, 0, 0.15);\n",
              "      filter: drop-shadow(0px 1px 2px rgba(0, 0, 0, 0.3));\n",
              "      fill: #FFFFFF;\n",
              "    }\n",
              "  </style>\n",
              "\n",
              "      <script>\n",
              "        const buttonEl =\n",
              "          document.querySelector('#df-4df2873e-635d-4801-abfe-39a9c86063db button.colab-df-convert');\n",
              "        buttonEl.style.display =\n",
              "          google.colab.kernel.accessAllowed ? 'block' : 'none';\n",
              "\n",
              "        async function convertToInteractive(key) {\n",
              "          const element = document.querySelector('#df-4df2873e-635d-4801-abfe-39a9c86063db');\n",
              "          const dataTable =\n",
              "            await google.colab.kernel.invokeFunction('convertToInteractive',\n",
              "                                                     [key], {});\n",
              "          if (!dataTable) return;\n",
              "\n",
              "          const docLinkHtml = 'Like what you see? Visit the ' +\n",
              "            '<a target=\"_blank\" href=https://colab.research.google.com/notebooks/data_table.ipynb>data table notebook</a>'\n",
              "            + ' to learn more about interactive tables.';\n",
              "          element.innerHTML = '';\n",
              "          dataTable['output_type'] = 'display_data';\n",
              "          await google.colab.output.renderOutput(dataTable, element);\n",
              "          const docLink = document.createElement('div');\n",
              "          docLink.innerHTML = docLinkHtml;\n",
              "          element.appendChild(docLink);\n",
              "        }\n",
              "      </script>\n",
              "    </div>\n",
              "  </div>\n",
              "  "
            ]
          },
          "metadata": {},
          "execution_count": 17
        }
      ],
      "source": [
        "#read test data\n",
        "test = pd.read_csv('TestingUSD.csv', header=None, names=['Value'])\n",
        "test.head(5)"
      ]
    },
    {
      "cell_type": "code",
      "execution_count": 18,
      "metadata": {
        "id": "x7l44vk3zwU8",
        "colab": {
          "base_uri": "https://localhost:8080/"
        },
        "outputId": "4e338da7-019b-44c7-a68f-a8a5f29d14fc"
      },
      "outputs": [
        {
          "output_type": "stream",
          "name": "stdout",
          "text": [
            "(120, 1)\n"
          ]
        },
        {
          "output_type": "stream",
          "name": "stderr",
          "text": [
            "/usr/local/lib/python3.10/dist-packages/sklearn/base.py:439: UserWarning: X does not have valid feature names, but MinMaxScaler was fitted with feature names\n",
            "  warnings.warn(\n"
          ]
        }
      ],
      "source": [
        "#setup structure test data\n",
        "dataset = pd.concat((train, test), axis = 0)\n",
        "inputs = dataset[len(dataset) - len(test) - 60:].values\n",
        "inputs = inputs.reshape(-1,1)\n",
        "inputs = scaler.transform(inputs)\n",
        "print(inputs.shape)"
      ]
    },
    {
      "cell_type": "code",
      "execution_count": 19,
      "metadata": {
        "id": "2vlksmsNz18E",
        "colab": {
          "base_uri": "https://localhost:8080/"
        },
        "outputId": "202fa250-0928-47b6-c6aa-faf64131acf0"
      },
      "outputs": [
        {
          "output_type": "stream",
          "name": "stdout",
          "text": [
            "(60, 60)\n"
          ]
        }
      ],
      "source": [
        "#creating a test data structure with 60 timestamps and 1 output\n",
        "X_test = []\n",
        "for i in range(60, inputs.shape[0]):\n",
        "    X_test.append(inputs[i-60:i, 0])\n",
        "X_test = np.array(X_test)\n",
        "print(X_test.shape)"
      ]
    },
    {
      "cell_type": "code",
      "execution_count": 20,
      "metadata": {
        "id": "bx20AwG4z27_",
        "colab": {
          "base_uri": "https://localhost:8080/"
        },
        "outputId": "bff64757-590d-4f87-f9cc-2b3572d21463"
      },
      "outputs": [
        {
          "output_type": "stream",
          "name": "stdout",
          "text": [
            "(60, 60, 1)\n"
          ]
        }
      ],
      "source": [
        "#reshaping the test data according to the input on the lstm layer\n",
        "X_test = np.reshape(X_test, (X_test.shape[0], X_test.shape[1], 1))\n",
        "print(X_test.shape)"
      ]
    },
    {
      "cell_type": "code",
      "execution_count": 21,
      "metadata": {
        "id": "KZsNKNEmz86e",
        "colab": {
          "base_uri": "https://localhost:8080/"
        },
        "outputId": "1cea7ef9-e242-4624-e6a0-cfe252f80401"
      },
      "outputs": [
        {
          "output_type": "stream",
          "name": "stdout",
          "text": [
            "2/2 [==============================] - 1s 8ms/step\n"
          ]
        }
      ],
      "source": [
        "#predict the test data\n",
        "pred = regressor.predict(X_test)\n",
        "pred = scaler.inverse_transform(pred)\n",
        "test_mse = mean_squared_error(pred, test)"
      ]
    },
    {
      "cell_type": "code",
      "execution_count": 22,
      "metadata": {
        "id": "j46mC8zN0EfQ",
        "colab": {
          "base_uri": "https://localhost:8080/",
          "height": 489
        },
        "outputId": "30f31715-3a9d-49c2-927e-2ba4d4e89e39"
      },
      "outputs": [
        {
          "output_type": "stream",
          "name": "stdout",
          "text": [
            "Testing MSE: 7503.751831890305\n"
          ]
        },
        {
          "output_type": "display_data",
          "data": {
            "text/plain": [
              "<Figure size 640x480 with 1 Axes>"
            ],
            "image/png": "[encoded data removed]"
          },
          "metadata": {}
        }
      ],
      "source": [
        "# Visualizing the results\n",
        "print(f'Testing MSE: {test_mse}')\n",
        "plt.plot(pred, color = 'red', label = 'Predicted')\n",
        "plt.plot(test, color = 'blue', label = 'Actual')\n",
        "plt.title(f'MSE: {test_mse}')\n",
        "plt.xlabel('Time')\n",
        "plt.ylabel('USD TO IDR')\n",
        "plt.legend()\n",
        "plt.show()"
      ]
    },
    {
      "cell_type": "markdown",
      "source": [
        "**Explanation:** After constructing the model with the lowest MSE loss score, testing will be conducted on new data from the time series that follows the training data."
      ],
      "metadata": {
        "id": "I5l5uTd92oqm"
      }
    },
    {
      "cell_type": "markdown",
      "source": [
        "## **Updating Model**\n"
      ],
      "metadata": {
        "id": "PhEpfbb4VReo"
      }
    },
    {
      "cell_type": "markdown",
      "source": [
        "###**Retraining with Different Early Stopping & Batch**"
      ],
      "metadata": {
        "id": "iX2p3byS8d9V"
      }
    },
    {
      "cell_type": "code",
      "source": [
        "#call the best model that has been trained before\n",
        "re_regressor = df_models.iloc[idx].model\n",
        "re_regressor.get_metrics_result()"
      ],
      "metadata": {
        "id": "o50ncQk_YNh2",
        "colab": {
          "base_uri": "https://localhost:8080/"
        },
        "outputId": "b5745354-d566-4f3d-9545-d6fe0e95806d"
      },
      "execution_count": 23,
      "outputs": [
        {
          "output_type": "execute_result",
          "data": {
            "text/plain": [
              "{'loss': <tf.Tensor: shape=(), dtype=float32, numpy=0.003371209>,\n",
              " 'mean_squared_error': <tf.Tensor: shape=(), dtype=float32, numpy=0.003371209>}"
            ]
          },
          "metadata": {},
          "execution_count": 23
        }
      ]
    },
    {
      "cell_type": "code",
      "source": [
        "#retrain model\n",
        "es = EarlyStopping(monitor='loss', mode='min', min_delta=0.001, patience=20, restore_best_weights=True, start_from_epoch=20, verbose=1)\n",
        "re_regressor.fit(X_train, y_train, epochs=100, batch_size=1, verbose=1, callbacks=[es])"
      ],
      "metadata": {
        "colab": {
          "base_uri": "https://localhost:8080/"
        },
        "id": "yEB48avXT1_c",
        "outputId": "c8593c02-97b4-4f57-9478-7d95d4c4c1f2"
      },
      "execution_count": 24,
      "outputs": [
        {
          "output_type": "stream",
          "name": "stdout",
          "text": [
            "Epoch 1/100\n",
            "140/140 [==============================] - 1s 9ms/step - loss: 0.0114 - mean_squared_error: 0.0114\n",
            "Epoch 2/100\n",
            "140/140 [==============================] - 1s 9ms/step - loss: 0.0060 - mean_squared_error: 0.0060\n",
            "Epoch 3/100\n",
            "140/140 [==============================] - 1s 9ms/step - loss: 0.0049 - mean_squared_error: 0.0049\n",
            "Epoch 4/100\n",
            "140/140 [==============================] - 2s 11ms/step - loss: 0.0038 - mean_squared_error: 0.0038\n",
            "Epoch 5/100\n",
            "140/140 [==============================] - 2s 12ms/step - loss: 0.0051 - mean_squared_error: 0.0051\n",
            "Epoch 6/100\n",
            "140/140 [==============================] - 1s 9ms/step - loss: 0.0050 - mean_squared_error: 0.0050\n",
            "Epoch 7/100\n",
            "140/140 [==============================] - 1s 8ms/step - loss: 0.0046 - mean_squared_error: 0.0046\n",
            "Epoch 8/100\n",
            "140/140 [==============================] - 1s 9ms/step - loss: 0.0055 - mean_squared_error: 0.0055\n",
            "Epoch 9/100\n",
            "140/140 [==============================] - 1s 8ms/step - loss: 0.0043 - mean_squared_error: 0.0043\n",
            "Epoch 10/100\n",
            "140/140 [==============================] - 1s 8ms/step - loss: 0.0052 - mean_squared_error: 0.0052\n",
            "Epoch 11/100\n",
            "140/140 [==============================] - 1s 8ms/step - loss: 0.0042 - mean_squared_error: 0.0042\n",
            "Epoch 12/100\n",
            "140/140 [==============================] - 1s 8ms/step - loss: 0.0040 - mean_squared_error: 0.0040\n",
            "Epoch 13/100\n",
            "140/140 [==============================] - 1s 8ms/step - loss: 0.0036 - mean_squared_error: 0.0036\n",
            "Epoch 14/100\n",
            "140/140 [==============================] - 2s 12ms/step - loss: 0.0047 - mean_squared_error: 0.0047\n",
            "Epoch 15/100\n",
            "140/140 [==============================] - 1s 11ms/step - loss: 0.0044 - mean_squared_error: 0.0044\n",
            "Epoch 16/100\n",
            "140/140 [==============================] - 1s 9ms/step - loss: 0.0037 - mean_squared_error: 0.0037\n",
            "Epoch 17/100\n",
            "140/140 [==============================] - 1s 8ms/step - loss: 0.0033 - mean_squared_error: 0.0033\n",
            "Epoch 18/100\n",
            "140/140 [==============================] - 1s 8ms/step - loss: 0.0041 - mean_squared_error: 0.0041\n",
            "Epoch 19/100\n",
            "140/140 [==============================] - 1s 8ms/step - loss: 0.0038 - mean_squared_error: 0.0038\n",
            "Epoch 20/100\n",
            "140/140 [==============================] - 1s 9ms/step - loss: 0.0043 - mean_squared_error: 0.0043\n",
            "Epoch 21/100\n",
            "140/140 [==============================] - 1s 8ms/step - loss: 0.0044 - mean_squared_error: 0.0044\n",
            "Epoch 22/100\n",
            "140/140 [==============================] - 1s 8ms/step - loss: 0.0036 - mean_squared_error: 0.0036\n",
            "Epoch 23/100\n",
            "140/140 [==============================] - 1s 8ms/step - loss: 0.0042 - mean_squared_error: 0.0042\n",
            "Epoch 24/100\n",
            "140/140 [==============================] - 2s 12ms/step - loss: 0.0037 - mean_squared_error: 0.0037\n",
            "Epoch 25/100\n",
            "140/140 [==============================] - 1s 10ms/step - loss: 0.0043 - mean_squared_error: 0.0043\n",
            "Epoch 26/100\n",
            "140/140 [==============================] - 1s 8ms/step - loss: 0.0038 - mean_squared_error: 0.0038\n",
            "Epoch 27/100\n",
            "140/140 [==============================] - 1s 8ms/step - loss: 0.0036 - mean_squared_error: 0.0036\n",
            "Epoch 28/100\n",
            "140/140 [==============================] - 1s 9ms/step - loss: 0.0033 - mean_squared_error: 0.0033\n",
            "Epoch 29/100\n",
            "140/140 [==============================] - 1s 8ms/step - loss: 0.0037 - mean_squared_error: 0.0037\n",
            "Epoch 30/100\n",
            "140/140 [==============================] - 1s 8ms/step - loss: 0.0040 - mean_squared_error: 0.0040\n",
            "Epoch 31/100\n",
            "140/140 [==============================] - 1s 9ms/step - loss: 0.0038 - mean_squared_error: 0.0038\n",
            "Epoch 32/100\n",
            "140/140 [==============================] - 1s 8ms/step - loss: 0.0030 - mean_squared_error: 0.0030\n",
            "Epoch 33/100\n",
            "140/140 [==============================] - 1s 9ms/step - loss: 0.0040 - mean_squared_error: 0.0040\n",
            "Epoch 34/100\n",
            "140/140 [==============================] - 2s 12ms/step - loss: 0.0041 - mean_squared_error: 0.0041\n",
            "Epoch 35/100\n",
            "140/140 [==============================] - 1s 10ms/step - loss: 0.0037 - mean_squared_error: 0.0037\n",
            "Epoch 36/100\n",
            "140/140 [==============================] - 1s 8ms/step - loss: 0.0029 - mean_squared_error: 0.0029\n",
            "Epoch 37/100\n",
            "140/140 [==============================] - 1s 8ms/step - loss: 0.0032 - mean_squared_error: 0.0032\n",
            "Epoch 38/100\n",
            "140/140 [==============================] - 1s 8ms/step - loss: 0.0041 - mean_squared_error: 0.0041\n",
            "Epoch 39/100\n",
            "140/140 [==============================] - 1s 8ms/step - loss: 0.0035 - mean_squared_error: 0.0035\n",
            "Epoch 40/100\n",
            "140/140 [==============================] - 1s 9ms/step - loss: 0.0033 - mean_squared_error: 0.0033\n",
            "Epoch 41/100\n",
            "140/140 [==============================] - 1s 8ms/step - loss: 0.0033 - mean_squared_error: 0.0033\n",
            "Epoch 42/100\n",
            "140/140 [==============================] - 1s 8ms/step - loss: 0.0031 - mean_squared_error: 0.0031\n",
            "Epoch 43/100\n",
            "140/140 [==============================] - 1s 9ms/step - loss: 0.0036 - mean_squared_error: 0.0036\n",
            "Epoch 44/100\n",
            "140/140 [==============================] - 2s 13ms/step - loss: 0.0035 - mean_squared_error: 0.0035\n",
            "Epoch 45/100\n",
            "140/140 [==============================] - 1s 10ms/step - loss: 0.0034 - mean_squared_error: 0.0034\n",
            "Epoch 46/100\n",
            "140/140 [==============================] - 1s 8ms/step - loss: 0.0033 - mean_squared_error: 0.0033\n",
            "Epoch 47/100\n",
            "140/140 [==============================] - 1s 9ms/step - loss: 0.0031 - mean_squared_error: 0.0031\n",
            "Epoch 48/100\n",
            "139/140 [============================>.] - ETA: 0s - loss: 0.0030 - mean_squared_error: 0.0030Restoring model weights from the end of the best epoch: 28.\n",
            "140/140 [==============================] - 1s 9ms/step - loss: 0.0030 - mean_squared_error: 0.0030\n",
            "Epoch 48: early stopping\n"
          ]
        },
        {
          "output_type": "execute_result",
          "data": {
            "text/plain": [
              "<keras.callbacks.History at 0x7f09b67eebf0>"
            ]
          },
          "metadata": {},
          "execution_count": 24
        }
      ]
    },
    {
      "cell_type": "code",
      "source": [
        "#get_last_result\n",
        "re_regressor.get_metrics_result()"
      ],
      "metadata": {
        "colab": {
          "base_uri": "https://localhost:8080/"
        },
        "id": "zpp1jIe_88Vv",
        "outputId": "b44362db-0729-4151-d7c0-36e709be1125"
      },
      "execution_count": 25,
      "outputs": [
        {
          "output_type": "execute_result",
          "data": {
            "text/plain": [
              "{'loss': <tf.Tensor: shape=(), dtype=float32, numpy=0.0029870234>,\n",
              " 'mean_squared_error': <tf.Tensor: shape=(), dtype=float32, numpy=0.0029870234>}"
            ]
          },
          "metadata": {},
          "execution_count": 25
        }
      ]
    },
    {
      "cell_type": "markdown",
      "source": [
        "###**Testing**"
      ],
      "metadata": {
        "id": "LQdxJB_V885x"
      }
    },
    {
      "cell_type": "code",
      "source": [
        "#predict the test data\n",
        "pred = re_regressor.predict(X_test)\n",
        "pred = scaler.inverse_transform(pred)\n",
        "test_mse = mean_squared_error(pred, test)"
      ],
      "metadata": {
        "id": "dKRbd66Ba6OY",
        "colab": {
          "base_uri": "https://localhost:8080/"
        },
        "outputId": "d5ffa732-a6d0-400e-a8cc-d2bf6220471c"
      },
      "execution_count": 26,
      "outputs": [
        {
          "output_type": "stream",
          "name": "stdout",
          "text": [
            "2/2 [==============================] - 0s 9ms/step\n"
          ]
        }
      ]
    },
    {
      "cell_type": "code",
      "source": [
        "# Visualizing the results\n",
        "print(f'Testing MSE: {test_mse}')\n",
        "plt.plot(pred, color = 'red', label = 'Predicted')\n",
        "plt.plot(test, color = 'blue', label = 'Actual')\n",
        "plt.title(f'MSE: {test_mse}')\n",
        "plt.xlabel('Time')\n",
        "plt.ylabel('USD TO IDR')\n",
        "plt.legend()\n",
        "plt.show()"
      ],
      "metadata": {
        "id": "T15wDv3Aa7wl",
        "colab": {
          "base_uri": "https://localhost:8080/",
          "height": 489
        },
        "outputId": "e7d5cfa7-dbf0-4609-a50f-2567258ad998"
      },
      "execution_count": 27,
      "outputs": [
        {
          "output_type": "stream",
          "name": "stdout",
          "text": [
            "Testing MSE: 4811.099891044603\n"
          ]
        },
        {
          "output_type": "display_data",
          "data": {
            "text/plain": [
              "<Figure size 640x480 with 1 Axes>"
            ],
            "image/png": "[encoded data removed]"
          },
          "metadata": {}
        }
      ]
    },
    {
      "cell_type": "code",
      "source": [
        "#best result\n",
        "print(mean_squared_error(pred, test))"
      ],
      "metadata": {
        "id": "I-TUH-6DbMEY",
        "colab": {
          "base_uri": "https://localhost:8080/"
        },
        "outputId": "f5b972ee-78f0-44d8-81cc-73768d7416da"
      },
      "execution_count": 28,
      "outputs": [
        {
          "output_type": "stream",
          "name": "stdout",
          "text": [
            "4811.099891044603\n"
          ]
        }
      ]
    },
    {
      "cell_type": "markdown",
      "source": [
        "**Explanation:** Because the previous model being trained by searching for the best hyperparameters with some limitations to reduce execution time, a retraining process is conducted by modifying the early stopping and batch_size."
      ],
      "metadata": {
        "id": "6r4YCgSx2qeV"
      }
    }
  ],
  "metadata": {
    "accelerator": "GPU",
    "colab": {
      "gpuType": "T4",
      "provenance": []
    },
    "kernelspec": {
      "display_name": "Python 3",
      "name": "python3"
    },
    "language_info": {
      "codemirror_mode": {
        "name": "ipython",
        "version": 3
      },
      "file_extension": ".py",
      "mimetype": "text/x-python",
      "name": "python",
      "nbconvert_exporter": "python",
      "pygments_lexer": "ipython3",
      "version": "3.10.5"
    }
  },
  "nbformat": 4,
  "nbformat_minor": 0
}